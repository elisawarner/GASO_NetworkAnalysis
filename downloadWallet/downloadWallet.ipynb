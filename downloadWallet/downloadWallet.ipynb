{
 "cells": [
  {
   "cell_type": "markdown",
   "metadata": {},
   "source": [
    "# Download Wallet"
   ]
  },
  {
   "cell_type": "markdown",
   "metadata": {},
   "source": [
    "Note: Make sure to have a file called config.py. It should have this line:  \n",
    "`apiKeyETHERSCAN = \"<API Key>\"`  \n",
    "Get your apiKey from https://etherscan.io/apis"
   ]
  },
  {
   "cell_type": "markdown",
   "metadata": {},
   "source": [
    "Note: etherscan.io has a call limit of 5 calls/s on the free plan."
   ]
  },
  {
   "cell_type": "code",
   "execution_count": 1,
   "metadata": {},
   "outputs": [],
   "source": [
    "import numpy as np\n",
    "import pandas as pd\n",
    "from datetime import datetime\n",
    "from config import *\n",
    "from wallet_functions import *"
   ]
  },
  {
   "cell_type": "code",
   "execution_count": 2,
   "metadata": {},
   "outputs": [],
   "source": [
    "# place wallet address here\n",
    "origAddress = walletAddress"
   ]
  },
  {
   "cell_type": "markdown",
   "metadata": {},
   "source": [
    "## Download a Single Wallet and Transaction Info"
   ]
  },
  {
   "cell_type": "code",
   "execution_count": 3,
   "metadata": {},
   "outputs": [],
   "source": [
    "df = pd.DataFrame()"
   ]
  },
  {
   "cell_type": "code",
   "execution_count": 4,
   "metadata": {},
   "outputs": [],
   "source": [
    "result = RequestWalletAddress(origAddress)"
   ]
  },
  {
   "cell_type": "code",
   "execution_count": 5,
   "metadata": {},
   "outputs": [],
   "source": [
    "appendDict = {}\n",
    "\n",
    "for row in result:\n",
    "    appendDict = dict(row)\n",
    "    appendDict['timeStamp'] = datetime.utcfromtimestamp(int(row['timeStamp'])).strftime('%Y-%m-%d %H:%M:%S')\n",
    "    appendDict['value'] = int(row['value']) / 10**6\n",
    "    df = df.append(appendDict, ignore_index = True)\n",
    "\n",
    "df.to_csv(origAddress + '.csv', index=False)"
   ]
  },
  {
   "cell_type": "code",
   "execution_count": 6,
   "metadata": {},
   "outputs": [],
   "source": [
    "t = GetTransactionInfo(df, origAddress)\n",
    "t.to_csv('TransInfo_' + origAddress[-4:] + '.csv', index = False)"
   ]
  },
  {
   "cell_type": "code",
   "execution_count": null,
   "metadata": {},
   "outputs": [],
   "source": []
  }
 ],
 "metadata": {
  "kernelspec": {
   "display_name": "Python 3",
   "language": "python",
   "name": "python3"
  },
  "language_info": {
   "codemirror_mode": {
    "name": "ipython",
    "version": 3
   },
   "file_extension": ".py",
   "mimetype": "text/x-python",
   "name": "python",
   "nbconvert_exporter": "python",
   "pygments_lexer": "ipython3",
   "version": "3.8.8"
  }
 },
 "nbformat": 4,
 "nbformat_minor": 4
}
